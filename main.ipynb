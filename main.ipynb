{
 "cells": [
  {
   "cell_type": "markdown",
   "id": "776beddc",
   "metadata": {},
   "source": [
    "###  Code Setup"
   ]
  },
  {
   "cell_type": "code",
   "execution_count": null,
   "id": "51136124",
   "metadata": {
    "vscode": {
     "languageId": "plaintext"
    }
   },
   "outputs": [],
   "source": [
    "\n",
    "from fastapi import FastAPI\n",
    "from pydantic import BaseModel\n",
    "import requests\n",
    "from bs4 import BeautifulSoup\n",
    "\n",
    "app = FastAPI()\n"
   ]
  },
  {
   "cell_type": "markdown",
   "id": "f4961eb7",
   "metadata": {},
   "source": [
    "Tool Input Models\n"
   ]
  },
  {
   "cell_type": "code",
   "execution_count": null,
   "id": "070f9d61",
   "metadata": {
    "vscode": {
     "languageId": "plaintext"
    }
   },
   "outputs": [],
   "source": [
    "class UniversityQueryInput(BaseModel):\n",
    "    name: str\n",
    "\n",
    "class UniversityURLInput(BaseModel):\n",
    "    url: str"
   ]
  },
  {
   "cell_type": "markdown",
   "id": "fa1ef49d",
   "metadata": {},
   "source": [
    "MCP TOOL 1 (LOCAL): Get University Website URL"
   ]
  },
  {
   "cell_type": "code",
   "execution_count": null,
   "id": "3a5a4472",
   "metadata": {
    "vscode": {
     "languageId": "plaintext"
    }
   },
   "outputs": [],
   "source": [
    "@app.post(\"/get_university_url\")\n",
    "def get_university_url(input: UniversityQueryInput):\n",
    "    try:\n",
    "        api_url = f\"https://api.data.gov/ed/collegescorecard/v1/schools\"\n",
    "        params = {\n",
    "            \"api_key\": \"YOUR_API_KEY\",  # Replace with your real key\n",
    "            \"school.name\": input.name,\n",
    "            \"fields\": \"school.name,school.school_url\",\n",
    "            \"per_page\": 1\n",
    "        }\n",
    "        response = requests.get(api_url, params=params)\n",
    "        data = response.json()\n",
    "        if data.get(\"results\"):\n",
    "            return {\"url\": \"https://\" + data[\"results\"][0][\"school.school_url\"]}\n",
    "        return {\"url\": \"\"}\n",
    "    except Exception as e:\n",
    "        return {\"error\": str(e)}\n",
    "\n",
    "get_university_url_schema = {\n",
    "    \"name\": \"get_university_url\",\n",
    "    \"description\": \"Finds the admissions URL for a given U.S. university name.\",\n",
    "    \"parameters\": {\n",
    "        \"type\": \"object\",\n",
    "        \"properties\": {\n",
    "            \"name\": {\n",
    "                \"type\": \"string\",\n",
    "                \"description\": \"The official name of the university.\"\n",
    "            }\n",
    "        },\n",
    "        \"required\": [\"name\"]\n",
    "    }\n",
    "}"
   ]
  },
  {
   "cell_type": "markdown",
   "id": "e1dd74c4",
   "metadata": {},
   "source": [
    "MCP TOOL 2 (LOCAL): Extract Deadlines & Application Info"
   ]
  },
  {
   "cell_type": "code",
   "execution_count": null,
   "id": "15271daf",
   "metadata": {
    "vscode": {
     "languageId": "plaintext"
    }
   },
   "outputs": [],
   "source": [
    "def extract_deadline_info(input: UniversityURLInput):\n",
    "    try:\n",
    "        response = requests.get(input.url, timeout=10)\n",
    "        soup = BeautifulSoup(response.text, 'html.parser')\n",
    "        text = soup.get_text()\n",
    "        lines = text.split('\\n')\n",
    "        keywords = [\"deadline\", \"apply\", \"application\", \"due\"]\n",
    "        extracted = [line.strip() for line in lines if any(k in line.lower() for k in keywords)]\n",
    "        return {\"info\": extracted[:5]}  # limit to top 5 relevant lines\n",
    "    except Exception as e:\n",
    "        return {\"error\": str(e)}\n",
    "\n",
    "extract_deadline_info_schema = {\n",
    "    \"name\": \"extract_deadline_info\",\n",
    "    \"description\": \"Extracts application deadline and instructions from a university website.\",\n",
    "    \"parameters\": {\n",
    "        \"type\": \"object\",\n",
    "        \"properties\": {\n",
    "            \"url\": {\n",
    "                \"type\": \"string\",\n",
    "                \"description\": \"The admissions URL of the university.\"\n",
    "            }\n",
    "        },\n",
    "        \"required\": [\"url\"]\n",
    "    }\n",
    "}"
   ]
  },
  {
   "cell_type": "markdown",
   "id": "398fec7f",
   "metadata": {},
   "source": [
    "MCP TOOL 3 (HOSTED): University Ranking Info (example hosted endpoint)"
   ]
  },
  {
   "cell_type": "code",
   "execution_count": null,
   "id": "42860f5f",
   "metadata": {
    "vscode": {
     "languageId": "plaintext"
    }
   },
   "outputs": [],
   "source": [
    "@app.post(\"/get_ranking\")\n",
    "def get_ranking(input: UniversityQueryInput):\n",
    "    simulated_ranks = {\n",
    "        \"UT Austin\": \"Ranked #10 for Computer Science in the U.S.\",\n",
    "        \"Stanford\": \"Ranked #1 for Computer Science in the U.S.\",\n",
    "        \"Berkeley\": \"Ranked #2 for Computer Science in the U.S.\"\n",
    "    }\n",
    "    return {\"ranking\": simulated_ranks.get(input.name, \"Ranking not found.\")}\n",
    "\n",
    "get_ranking_schema = {\n",
    "    \"name\": \"get_ranking\",\n",
    "    \"description\": \"Returns the university's CS ranking based on the name provided.\",\n",
    "    \"parameters\": {\n",
    "        \"type\": \"object\",\n",
    "        \"properties\": {\n",
    "            \"name\": {\n",
    "                \"type\": \"string\",\n",
    "                \"description\": \"The official name of the university.\"\n",
    "            }\n",
    "        },\n",
    "        \"required\": [\"name\"]\n",
    "    }\n",
    "}"
   ]
  },
  {
   "cell_type": "markdown",
   "id": "8d3cf0c3",
   "metadata": {},
   "source": [
    "# MCP Agent Setup (LangChain)"
   ]
  },
  {
   "cell_type": "code",
   "execution_count": null,
   "id": "16f55ed2",
   "metadata": {
    "vscode": {
     "languageId": "plaintext"
    }
   },
   "outputs": [],
   "source": [
    "from langchain.agents.mcp import McpAgentExecutor\n",
    "from langchain.chat_models import ChatOpenAI\n",
    "\n",
    "agent = McpAgentExecutor.from_mcp_server(\n",
    "    mcp_server_url=\"http://localhost:3333\",\n",
    "    llm=ChatOpenAI()\n",
    ")\n",
    "\n",
    "# Example prompt\n",
    "response = agent.invoke(\n",
    "    \"Tell me about Stanford University’s application deadlines, how to apply, and its ranking.\"\n",
    ")\n",
    "print(response)"
   ]
  }
 ],
 "metadata": {
  "language_info": {
   "name": "python"
  }
 },
 "nbformat": 4,
 "nbformat_minor": 5
}
